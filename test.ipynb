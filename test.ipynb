{
 "cells": [
  {
   "cell_type": "markdown",
   "metadata": {},
   "source": [
    "# Faster RCNN model "
   ]
  },
  {
   "cell_type": "code",
   "execution_count": 1,
   "metadata": {
    "ExecuteTime": {
     "end_time": "2019-06-04T03:53:32.974120Z",
     "start_time": "2019-06-04T03:53:07.724255Z"
    }
   },
   "outputs": [
    {
     "name": "stderr",
     "output_type": "stream",
     "text": [
      "C:\\Users\\Administrator\\Desktop\\rcnn lstm\\model\\utils\\nms\\non_maximum_suppression.py:12: UserWarning: \n",
      "    the python code for non_maximum_suppression is about 2x slow\n",
      "    It is strongly recommended to build cython code: \n",
      "    `cd model/utils/nms/; python3 build.py build_ext --inplace\n",
      "  `cd model/utils/nms/; python3 build.py build_ext --inplace''')\n"
     ]
    }
   ],
   "source": [
    "%load_ext autoreload\n",
    "%autoreload 2\n",
    "import os\n",
    "import torch as t\n",
    "from torch import nn\n",
    "from utils.config import opt\n",
    "from model import FasterRCNNVGG16,FasterRCNNVGG16Extractor\n",
    "from trainer import FasterRCNNTrainer\n",
    "from data.util import  read_image\n",
    "from utils.vis_tool import vis_bbox\n",
    "from utils import array_tool as at\n",
    "%matplotlib inline"
   ]
  },
  {
   "cell_type": "code",
   "execution_count": 2,
   "metadata": {
    "ExecuteTime": {
     "end_time": "2019-06-04T03:53:33.908733Z",
     "start_time": "2019-06-04T03:53:33.590904Z"
    }
   },
   "outputs": [
    {
     "data": {
      "text/plain": [
       "tensor([[1., 2.]])"
      ]
     },
     "execution_count": 2,
     "metadata": {},
     "output_type": "execute_result"
    }
   ],
   "source": [
    "t.FloatTensor([[1,2]])"
   ]
  },
  {
   "cell_type": "code",
   "execution_count": 3,
   "metadata": {
    "ExecuteTime": {
     "end_time": "2019-06-04T03:53:42.681906Z",
     "start_time": "2019-06-04T03:53:34.567379Z"
    }
   },
   "outputs": [
    {
     "name": "stderr",
     "output_type": "stream",
     "text": [
      "WARNING:root:Setting up a new session...\n"
     ]
    },
    {
     "name": "stdout",
     "output_type": "stream",
     "text": [
      "Exception in user code:\n",
      "------------------------------------------------------------\n"
     ]
    },
    {
     "name": "stderr",
     "output_type": "stream",
     "text": [
      "Traceback (most recent call last):\n",
      "  File \"G:\\Anaconda3\\lib\\site-packages\\urllib3\\connection.py\", line 159, in _new_conn\n",
      "    (self._dns_host, self.port), self.timeout, **extra_kw)\n",
      "  File \"G:\\Anaconda3\\lib\\site-packages\\urllib3\\util\\connection.py\", line 80, in create_connection\n",
      "    raise err\n",
      "  File \"G:\\Anaconda3\\lib\\site-packages\\urllib3\\util\\connection.py\", line 70, in create_connection\n",
      "    sock.connect(sa)\n",
      "ConnectionRefusedError: [WinError 10061] 由于目标计算机积极拒绝，无法连接。\n",
      "\n",
      "During handling of the above exception, another exception occurred:\n",
      "\n",
      "Traceback (most recent call last):\n",
      "  File \"G:\\Anaconda3\\lib\\site-packages\\urllib3\\connectionpool.py\", line 600, in urlopen\n",
      "    chunked=chunked)\n",
      "  File \"G:\\Anaconda3\\lib\\site-packages\\urllib3\\connectionpool.py\", line 354, in _make_request\n",
      "    conn.request(method, url, **httplib_request_kw)\n",
      "  File \"G:\\Anaconda3\\lib\\http\\client.py\", line 1229, in request\n",
      "    self._send_request(method, url, body, headers, encode_chunked)\n",
      "  File \"G:\\Anaconda3\\lib\\http\\client.py\", line 1275, in _send_request\n",
      "    self.endheaders(body, encode_chunked=encode_chunked)\n",
      "  File \"G:\\Anaconda3\\lib\\http\\client.py\", line 1224, in endheaders\n",
      "    self._send_output(message_body, encode_chunked=encode_chunked)\n",
      "  File \"G:\\Anaconda3\\lib\\http\\client.py\", line 1016, in _send_output\n",
      "    self.send(msg)\n",
      "  File \"G:\\Anaconda3\\lib\\http\\client.py\", line 956, in send\n",
      "    self.connect()\n",
      "  File \"G:\\Anaconda3\\lib\\site-packages\\urllib3\\connection.py\", line 181, in connect\n",
      "    conn = self._new_conn()\n",
      "  File \"G:\\Anaconda3\\lib\\site-packages\\urllib3\\connection.py\", line 168, in _new_conn\n",
      "    self, \"Failed to establish a new connection: %s\" % e)\n",
      "urllib3.exceptions.NewConnectionError: <urllib3.connection.HTTPConnection object at 0x0000023DCAD63AC8>: Failed to establish a new connection: [WinError 10061] 由于目标计算机积极拒绝，无法连接。\n",
      "\n",
      "During handling of the above exception, another exception occurred:\n",
      "\n",
      "Traceback (most recent call last):\n",
      "  File \"G:\\Anaconda3\\lib\\site-packages\\requests\\adapters.py\", line 449, in send\n",
      "    timeout=timeout\n",
      "  File \"G:\\Anaconda3\\lib\\site-packages\\urllib3\\connectionpool.py\", line 638, in urlopen\n",
      "    _stacktrace=sys.exc_info()[2])\n",
      "  File \"G:\\Anaconda3\\lib\\site-packages\\urllib3\\util\\retry.py\", line 398, in increment\n",
      "    raise MaxRetryError(_pool, url, error or ResponseError(cause))\n",
      "urllib3.exceptions.MaxRetryError: HTTPConnectionPool(host='localhost', port=8097): Max retries exceeded with url: /env/faster-rcnn (Caused by NewConnectionError('<urllib3.connection.HTTPConnection object at 0x0000023DCAD63AC8>: Failed to establish a new connection: [WinError 10061] 由于目标计算机积极拒绝，无法连接。'))\n",
      "\n",
      "During handling of the above exception, another exception occurred:\n",
      "\n",
      "Traceback (most recent call last):\n",
      "  File \"G:\\Anaconda3\\lib\\site-packages\\visdom\\__init__.py\", line 548, in _send\n",
      "    data=json.dumps(msg),\n",
      "  File \"G:\\Anaconda3\\lib\\site-packages\\requests\\sessions.py\", line 581, in post\n",
      "    return self.request('POST', url, data=data, json=json, **kwargs)\n",
      "  File \"G:\\Anaconda3\\lib\\site-packages\\requests\\sessions.py\", line 533, in request\n",
      "    resp = self.send(prep, **send_kwargs)\n",
      "  File \"G:\\Anaconda3\\lib\\site-packages\\requests\\sessions.py\", line 646, in send\n",
      "    r = adapter.send(request, **kwargs)\n",
      "  File \"G:\\Anaconda3\\lib\\site-packages\\requests\\adapters.py\", line 516, in send\n",
      "    raise ConnectionError(e, request=request)\n",
      "requests.exceptions.ConnectionError: HTTPConnectionPool(host='localhost', port=8097): Max retries exceeded with url: /env/faster-rcnn (Caused by NewConnectionError('<urllib3.connection.HTTPConnection object at 0x0000023DCAD63AC8>: Failed to establish a new connection: [WinError 10061] 由于目标计算机积极拒绝，无法连接。'))\n",
      "WARNING:visdom:Without the incoming socket you cannot receive events from the server or register event handlers to your Visdom client.\n"
     ]
    }
   ],
   "source": [
    "faster_rcnn = FasterRCNNVGG16()\n",
    "trainer = FasterRCNNTrainer(faster_rcnn).cuda()"
   ]
  },
  {
   "cell_type": "code",
   "execution_count": 4,
   "metadata": {
    "ExecuteTime": {
     "end_time": "2019-06-04T03:53:45.846339Z",
     "start_time": "2019-06-04T03:53:43.320776Z"
    }
   },
   "outputs": [],
   "source": [
    "trainer.load('G:\\\\models\\\\fasterrcnn_torchvision_pretrain.pth')\n",
    "opt.caffe_pretrain=False # this model was trained from torchvision-pretrained model"
   ]
  },
  {
   "cell_type": "code",
   "execution_count": 5,
   "metadata": {
    "ExecuteTime": {
     "end_time": "2019-06-04T03:53:46.807788Z",
     "start_time": "2019-06-04T03:53:46.470982Z"
    }
   },
   "outputs": [],
   "source": [
    "img = read_image('misc/COCO_train2014_000000000036.jpg')\n",
    "img = t.from_numpy(img)[None]\n",
    "img = at.totensor(img).float()"
   ]
  },
  {
   "cell_type": "code",
   "execution_count": 6,
   "metadata": {
    "ExecuteTime": {
     "end_time": "2019-05-03T08:03:34.045978Z",
     "start_time": "2019-05-03T08:03:33.762703Z"
    }
   },
   "outputs": [
    {
     "data": {
      "text/plain": [
       "torch.Size([1, 3, 640, 481])"
      ]
     },
     "execution_count": 6,
     "metadata": {},
     "output_type": "execute_result"
    }
   ],
   "source": [
    "img.shape"
   ]
  },
  {
   "cell_type": "code",
   "execution_count": 7,
   "metadata": {
    "ExecuteTime": {
     "end_time": "2019-05-03T08:03:37.696835Z",
     "start_time": "2019-05-03T08:03:34.047932Z"
    }
   },
   "outputs": [],
   "source": [
    "pool,roi_cls_locs, roi_scores, rpn_locs, rpn_scores, rois, anchors, scales,_ = faster_extractor.extract(img,35)"
   ]
  },
  {
   "cell_type": "markdown",
   "metadata": {},
   "source": [
    "# Word Embedding"
   ]
  },
  {
   "cell_type": "code",
   "execution_count": 8,
   "metadata": {
    "ExecuteTime": {
     "end_time": "2019-05-03T08:03:37.993129Z",
     "start_time": "2019-05-03T08:03:37.698787Z"
    }
   },
   "outputs": [],
   "source": [
    "from gensim.models import Word2Vec\n",
    "import nltk"
   ]
  },
  {
   "cell_type": "code",
   "execution_count": 9,
   "metadata": {
    "ExecuteTime": {
     "end_time": "2019-05-03T08:03:38.288184Z",
     "start_time": "2019-05-03T08:03:37.996060Z"
    }
   },
   "outputs": [],
   "source": [
    "embedding_file = 'G:/data/coco_filtered_word2vec_1024'"
   ]
  },
  {
   "cell_type": "code",
   "execution_count": 10,
   "metadata": {
    "ExecuteTime": {
     "end_time": "2019-05-03T08:03:40.234925Z",
     "start_time": "2019-05-03T08:03:38.289160Z"
    }
   },
   "outputs": [
    {
     "name": "stderr",
     "output_type": "stream",
     "text": [
      "WARNING:smart_open.smart_open_lib:this function is deprecated, use smart_open.open instead\n"
     ]
    }
   ],
   "source": [
    "word_embedding = Word2Vec.load(embedding_file)"
   ]
  },
  {
   "cell_type": "markdown",
   "metadata": {},
   "source": [
    "# coco dataset"
   ]
  },
  {
   "cell_type": "code",
   "execution_count": 11,
   "metadata": {
    "ExecuteTime": {
     "end_time": "2019-05-03T08:03:40.504038Z",
     "start_time": "2019-05-03T08:03:40.235901Z"
    }
   },
   "outputs": [],
   "source": [
    "from pycocotools.coco import COCO"
   ]
  },
  {
   "cell_type": "code",
   "execution_count": 12,
   "metadata": {
    "ExecuteTime": {
     "end_time": "2019-05-03T08:03:40.789634Z",
     "start_time": "2019-05-03T08:03:40.505014Z"
    }
   },
   "outputs": [],
   "source": [
    "english_punctuations = [',', '.', ':', ';', '?', '(', ')', '[', ']', '&', '!', '*', '@', '#', '$', '%','-']\n",
    "filter_word = english_punctuations + nltk.corpus.stopwords.words('english')"
   ]
  },
  {
   "cell_type": "code",
   "execution_count": 13,
   "metadata": {
    "ExecuteTime": {
     "end_time": "2019-05-03T08:03:41.059104Z",
     "start_time": "2019-05-03T08:03:40.790610Z"
    }
   },
   "outputs": [],
   "source": [
    "dataType = 'train2017'\n",
    "annDir = 'G:/data/coco/annotations'\n",
    "ann_caption_file = '{}/captions_{}.json'.format(annDir, dataType)\n",
    "ann_instance_file = '{}/instances_{}.json'.format(annDir, dataType)"
   ]
  },
  {
   "cell_type": "code",
   "execution_count": 14,
   "metadata": {
    "ExecuteTime": {
     "end_time": "2019-05-03T08:04:15.709047Z",
     "start_time": "2019-05-03T08:03:41.061056Z"
    }
   },
   "outputs": [
    {
     "name": "stdout",
     "output_type": "stream",
     "text": [
      "loading annotations into memory...\n",
      "Done (t=2.11s)\n",
      "creating index...\n",
      "index created!\n",
      "loading annotations into memory...\n",
      "Done (t=29.57s)\n",
      "creating index...\n",
      "index created!\n"
     ]
    }
   ],
   "source": [
    "coco_caption=COCO(ann_caption_file)\n",
    "coco_instance = COCO(ann_instance_file)"
   ]
  },
  {
   "cell_type": "code",
   "execution_count": 15,
   "metadata": {
    "ExecuteTime": {
     "end_time": "2019-05-03T08:04:18.491369Z",
     "start_time": "2019-05-03T08:04:15.713929Z"
    }
   },
   "outputs": [],
   "source": [
    "img_ids  = coco_caption.getImgIds()"
   ]
  },
  {
   "cell_type": "code",
   "execution_count": 16,
   "metadata": {
    "ExecuteTime": {
     "end_time": "2019-05-03T08:04:18.805736Z",
     "start_time": "2019-05-03T08:04:18.494283Z"
    }
   },
   "outputs": [
    {
     "name": "stdout",
     "output_type": "stream",
     "text": [
      "[770337, 771687, 772707, 776154, 781998, 681330, 686718, 688839, 693159, 693204]\n"
     ]
    }
   ],
   "source": [
    "annid = coco_caption.getAnnIds(img_ids[0:2])\n",
    "instance_id = coco_instance.getAnnIds(img_ids[0])\n",
    "print(annid)"
   ]
  },
  {
   "cell_type": "code",
   "execution_count": 17,
   "metadata": {
    "ExecuteTime": {
     "end_time": "2019-05-03T08:04:19.073249Z",
     "start_time": "2019-05-03T08:04:18.806710Z"
    }
   },
   "outputs": [
    {
     "data": {
      "text/plain": [
       "[{'license': 3,\n",
       "  'file_name': '000000391895.jpg',\n",
       "  'coco_url': 'http://images.cocodataset.org/train2017/000000391895.jpg',\n",
       "  'height': 360,\n",
       "  'width': 640,\n",
       "  'date_captured': '2013-11-14 11:18:45',\n",
       "  'flickr_url': 'http://farm9.staticflickr.com/8186/8119368305_4e622c8349_z.jpg',\n",
       "  'id': 391895}]"
      ]
     },
     "execution_count": 17,
     "metadata": {},
     "output_type": "execute_result"
    }
   ],
   "source": [
    "coco_caption.loadImgs(img_ids[0])"
   ]
  },
  {
   "cell_type": "code",
   "execution_count": 18,
   "metadata": {
    "ExecuteTime": {
     "end_time": "2019-05-03T08:04:19.367632Z",
     "start_time": "2019-05-03T08:04:19.083989Z"
    }
   },
   "outputs": [
    {
     "data": {
      "text/plain": [
       "[{'image_id': 391895,\n",
       "  'id': 770337,\n",
       "  'caption': 'A man with a red helmet on a small moped on a dirt road. '},\n",
       " {'image_id': 391895,\n",
       "  'id': 771687,\n",
       "  'caption': 'Man riding a motor bike on a dirt road on the countryside.'},\n",
       " {'image_id': 391895,\n",
       "  'id': 772707,\n",
       "  'caption': 'A man riding on the back of a motorcycle.'},\n",
       " {'image_id': 391895,\n",
       "  'id': 776154,\n",
       "  'caption': 'A dirt path with a young person on a motor bike rests to the foreground of a verdant area with a bridge and a background of cloud-wreathed mountains. '},\n",
       " {'image_id': 391895,\n",
       "  'id': 781998,\n",
       "  'caption': 'A man in a red shirt and a red hat is on a motorcycle on a hill side.'},\n",
       " {'image_id': 522418,\n",
       "  'id': 681330,\n",
       "  'caption': 'A woman wearing a net on her head cutting a cake. '},\n",
       " {'image_id': 522418,\n",
       "  'id': 686718,\n",
       "  'caption': 'A woman cutting a large white sheet cake.'},\n",
       " {'image_id': 522418,\n",
       "  'id': 688839,\n",
       "  'caption': 'A woman wearing a hair net cutting a large sheet cake.'},\n",
       " {'image_id': 522418,\n",
       "  'id': 693159,\n",
       "  'caption': 'there is a woman that is cutting a white cake'},\n",
       " {'image_id': 522418,\n",
       "  'id': 693204,\n",
       "  'caption': \"A woman marking a cake with the back of a chef's knife. \"}]"
      ]
     },
     "execution_count": 18,
     "metadata": {},
     "output_type": "execute_result"
    }
   ],
   "source": [
    "coco_caption.loadAnns(annid)"
   ]
  },
  {
   "cell_type": "code",
   "execution_count": 19,
   "metadata": {
    "ExecuteTime": {
     "end_time": "2019-05-03T08:04:19.659559Z",
     "start_time": "2019-05-03T08:04:19.371537Z"
    }
   },
   "outputs": [
    {
     "data": {
      "text/plain": [
       "[{'segmentation': [[376.97,\n",
       "    176.91,\n",
       "    398.81,\n",
       "    176.91,\n",
       "    396.38,\n",
       "    147.78,\n",
       "    447.35,\n",
       "    146.17,\n",
       "    448.16,\n",
       "    172.05,\n",
       "    448.16,\n",
       "    178.53,\n",
       "    464.34,\n",
       "    186.62,\n",
       "    464.34,\n",
       "    192.28,\n",
       "    448.97,\n",
       "    195.51,\n",
       "    447.35,\n",
       "    235.96,\n",
       "    441.69,\n",
       "    258.62,\n",
       "    454.63,\n",
       "    268.32,\n",
       "    462.72,\n",
       "    276.41,\n",
       "    471.62,\n",
       "    290.98,\n",
       "    456.25,\n",
       "    298.26,\n",
       "    439.26,\n",
       "    292.59,\n",
       "    431.98,\n",
       "    308.77,\n",
       "    442.49,\n",
       "    313.63,\n",
       "    436.02,\n",
       "    316.86,\n",
       "    429.55,\n",
       "    322.53,\n",
       "    419.84,\n",
       "    354.89,\n",
       "    402.04,\n",
       "    359.74,\n",
       "    401.24,\n",
       "    312.82,\n",
       "    370.49,\n",
       "    303.92,\n",
       "    391.53,\n",
       "    299.87,\n",
       "    391.53,\n",
       "    280.46,\n",
       "    385.06,\n",
       "    278.84,\n",
       "    381.01,\n",
       "    278.84,\n",
       "    359.17,\n",
       "    269.13,\n",
       "    373.73,\n",
       "    261.85,\n",
       "    374.54,\n",
       "    256.19,\n",
       "    378.58,\n",
       "    231.11,\n",
       "    383.44,\n",
       "    205.22,\n",
       "    385.87,\n",
       "    192.28,\n",
       "    373.73,\n",
       "    184.19]],\n",
       "  'area': 12190.44565,\n",
       "  'iscrowd': 0,\n",
       "  'image_id': 391895,\n",
       "  'bbox': [359.17, 146.17, 112.45, 213.57],\n",
       "  'category_id': 4,\n",
       "  'id': 151091},\n",
       " {'segmentation': [[352.55,\n",
       "    146.82,\n",
       "    353.61,\n",
       "    137.66,\n",
       "    356.07,\n",
       "    112.66,\n",
       "    357.13,\n",
       "    94.7,\n",
       "    357.13,\n",
       "    84.49,\n",
       "    363.12,\n",
       "    73.92,\n",
       "    370.16,\n",
       "    68.64,\n",
       "    370.16,\n",
       "    66.53,\n",
       "    368.4,\n",
       "    63.71,\n",
       "    368.05,\n",
       "    54.56,\n",
       "    361.0,\n",
       "    53.85,\n",
       "    356.07,\n",
       "    50.33,\n",
       "    356.43,\n",
       "    46.46,\n",
       "    364.17,\n",
       "    42.23,\n",
       "    369.1,\n",
       "    35.89,\n",
       "    371.22,\n",
       "    30.96,\n",
       "    376.85,\n",
       "    26.39,\n",
       "    383.54,\n",
       "    22.16,\n",
       "    391.29,\n",
       "    23.22,\n",
       "    400.79,\n",
       "    27.79,\n",
       "    402.2,\n",
       "    30.61,\n",
       "    404.32,\n",
       "    34.84,\n",
       "    406.08,\n",
       "    38.71,\n",
       "    406.08,\n",
       "    41.53,\n",
       "    406.08,\n",
       "    47.87,\n",
       "    407.84,\n",
       "    54.91,\n",
       "    408.89,\n",
       "    59.84,\n",
       "    408.89,\n",
       "    61.25,\n",
       "    408.89,\n",
       "    63.36,\n",
       "    422.28,\n",
       "    67.94,\n",
       "    432.13,\n",
       "    72.52,\n",
       "    445.87,\n",
       "    81.32,\n",
       "    446.57,\n",
       "    84.14,\n",
       "    446.57,\n",
       "    99.2,\n",
       "    451.15,\n",
       "    118.22,\n",
       "    453.26,\n",
       "    128.39,\n",
       "    453.61,\n",
       "    131.92,\n",
       "    453.61,\n",
       "    133.68,\n",
       "    451.5,\n",
       "    137.55,\n",
       "    451.5,\n",
       "    139.31,\n",
       "    455.38,\n",
       "    144.24,\n",
       "    455.38,\n",
       "    153.04,\n",
       "    455.73,\n",
       "    155.16,\n",
       "    461.01,\n",
       "    162.85,\n",
       "    462.07,\n",
       "    166.37,\n",
       "    459.95,\n",
       "    170.6,\n",
       "    459.6,\n",
       "    176.58,\n",
       "    459.95,\n",
       "    178.69,\n",
       "    459.95,\n",
       "    180.1,\n",
       "    448.33,\n",
       "    180.45,\n",
       "    447.98,\n",
       "    177.64,\n",
       "    446.57,\n",
       "    172.36,\n",
       "    447.63,\n",
       "    166.37,\n",
       "    449.74,\n",
       "    160.38,\n",
       "    450.09,\n",
       "    157.57,\n",
       "    448.68,\n",
       "    152.28,\n",
       "    445.16,\n",
       "    147.71,\n",
       "    441.29,\n",
       "    143.48,\n",
       "    435.66,\n",
       "    142.78,\n",
       "    428.26,\n",
       "    141.37,\n",
       "    420.87,\n",
       "    141.37,\n",
       "    418.75,\n",
       "    141.37,\n",
       "    411.71,\n",
       "    144.19,\n",
       "    404.32,\n",
       "    145.24,\n",
       "    396.57,\n",
       "    150.52,\n",
       "    395.87,\n",
       "    152.64,\n",
       "    391.29,\n",
       "    157.92,\n",
       "    391.99,\n",
       "    164.26,\n",
       "    389.53,\n",
       "    172.0,\n",
       "    389.53,\n",
       "    176.23,\n",
       "    376.85,\n",
       "    174.82,\n",
       "    375.09,\n",
       "    177.29,\n",
       "    374.03,\n",
       "    188.55,\n",
       "    381.08,\n",
       "    192.78,\n",
       "    384.6,\n",
       "    194.19,\n",
       "    384.95,\n",
       "    198.41,\n",
       "    383.19,\n",
       "    203.34,\n",
       "    380.02,\n",
       "    210.03,\n",
       "    378.61,\n",
       "    218.84,\n",
       "    375.79,\n",
       "    220.95,\n",
       "    373.68,\n",
       "    223.42,\n",
       "    368.05,\n",
       "    245.56,\n",
       "    368.05,\n",
       "    256.48,\n",
       "    368.05,\n",
       "    259.3,\n",
       "    360.65,\n",
       "    261.06,\n",
       "    361.71,\n",
       "    266.34,\n",
       "    361.36,\n",
       "    268.8,\n",
       "    358.19,\n",
       "    271.62,\n",
       "    353.26,\n",
       "    274.09,\n",
       "    349.74,\n",
       "    275.49,\n",
       "    341.28,\n",
       "    273.03,\n",
       "    339.88,\n",
       "    270.21,\n",
       "    343.05,\n",
       "    263.52,\n",
       "    347.62,\n",
       "    259.65,\n",
       "    351.5,\n",
       "    253.31,\n",
       "    352.9,\n",
       "    250.84,\n",
       "    356.07,\n",
       "    244.86,\n",
       "    359.24,\n",
       "    235.35,\n",
       "    357.83,\n",
       "    214.58,\n",
       "    357.13,\n",
       "    204.36,\n",
       "    358.89,\n",
       "    196.97,\n",
       "    361.71,\n",
       "    183.94,\n",
       "    365.93,\n",
       "    175.14,\n",
       "    371.92,\n",
       "    169.15,\n",
       "    376.15,\n",
       "    164.22,\n",
       "    377.2,\n",
       "    160.35,\n",
       "    378.61,\n",
       "    151.9,\n",
       "    377.55,\n",
       "    145.56,\n",
       "    375.79,\n",
       "    131.82,\n",
       "    375.09,\n",
       "    131.82,\n",
       "    373.33,\n",
       "    139.22,\n",
       "    370.16,\n",
       "    143.8,\n",
       "    369.1,\n",
       "    148.02,\n",
       "    365.93,\n",
       "    155.42,\n",
       "    361.0,\n",
       "    158.59,\n",
       "    358.89,\n",
       "    159.99,\n",
       "    358.89,\n",
       "    161.76,\n",
       "    361.71,\n",
       "    163.87,\n",
       "    363.12,\n",
       "    165.98,\n",
       "    363.12,\n",
       "    168.8,\n",
       "    362.06,\n",
       "    170.21,\n",
       "    360.3,\n",
       "    170.56,\n",
       "    358.54,\n",
       "    170.56,\n",
       "    355.02,\n",
       "    168.45,\n",
       "    352.2,\n",
       "    163.52,\n",
       "    351.14,\n",
       "    161.05,\n",
       "    351.14,\n",
       "    156.83,\n",
       "    352.2,\n",
       "    154.36,\n",
       "    353.26,\n",
       "    152.25,\n",
       "    353.61,\n",
       "    152.25,\n",
       "    353.26,\n",
       "    149.43],\n",
       "   [450.45,\n",
       "    196.54,\n",
       "    461.71,\n",
       "    195.13,\n",
       "    466.29,\n",
       "    209.22,\n",
       "    469.11,\n",
       "    227.88,\n",
       "    475.09,\n",
       "    241.62,\n",
       "    479.32,\n",
       "    249.01,\n",
       "    482.49,\n",
       "    262.04,\n",
       "    482.84,\n",
       "    279.96,\n",
       "    485.66,\n",
       "    303.87,\n",
       "    492.7,\n",
       "    307.04,\n",
       "    493.76,\n",
       "    309.5,\n",
       "    491.29,\n",
       "    318.66,\n",
       "    490.59,\n",
       "    321.83,\n",
       "    485.66,\n",
       "    322.89,\n",
       "    480.02,\n",
       "    322.89,\n",
       "    475.45,\n",
       "    317.96,\n",
       "    474.74,\n",
       "    310.91,\n",
       "    470.87,\n",
       "    304.57,\n",
       "    470.87,\n",
       "    294.71,\n",
       "    467.7,\n",
       "    282.34,\n",
       "    463.47,\n",
       "    276.7,\n",
       "    461.71,\n",
       "    272.83,\n",
       "    459.25,\n",
       "    270.01,\n",
       "    454.32,\n",
       "    268.25,\n",
       "    450.09,\n",
       "    259.82,\n",
       "    450.09,\n",
       "    252.07,\n",
       "    445.52,\n",
       "    234.11,\n",
       "    449.04,\n",
       "    229.57,\n",
       "    448.33,\n",
       "    199.29]],\n",
       "  'area': 14107.271300000002,\n",
       "  'iscrowd': 0,\n",
       "  'image_id': 391895,\n",
       "  'bbox': [339.88, 22.16, 153.88, 300.73],\n",
       "  'category_id': 1,\n",
       "  'id': 202758},\n",
       " {'segmentation': [[477.41,\n",
       "    217.71,\n",
       "    475.06,\n",
       "    212.15,\n",
       "    473.78,\n",
       "    208.95,\n",
       "    473.78,\n",
       "    203.39,\n",
       "    473.78,\n",
       "    200.4,\n",
       "    473.35,\n",
       "    196.76,\n",
       "    472.07,\n",
       "    192.49,\n",
       "    471.64,\n",
       "    189.49,\n",
       "    471.64,\n",
       "    186.71,\n",
       "    472.28,\n",
       "    184.36,\n",
       "    473.14,\n",
       "    183.29,\n",
       "    473.14,\n",
       "    179.87,\n",
       "    473.35,\n",
       "    178.16,\n",
       "    474.85,\n",
       "    176.67,\n",
       "    475.92,\n",
       "    175.38,\n",
       "    477.63,\n",
       "    173.46,\n",
       "    479.98,\n",
       "    172.82,\n",
       "    484.04,\n",
       "    175.6,\n",
       "    484.47,\n",
       "    178.16,\n",
       "    484.9,\n",
       "    178.8,\n",
       "    492.38,\n",
       "    180.3,\n",
       "    499.43,\n",
       "    181.16,\n",
       "    506.06,\n",
       "    180.94,\n",
       "    507.34,\n",
       "    182.22,\n",
       "    507.56,\n",
       "    183.51,\n",
       "    506.06,\n",
       "    184.58,\n",
       "    503.28,\n",
       "    185.64,\n",
       "    499.22,\n",
       "    185.86,\n",
       "    493.23,\n",
       "    186.5,\n",
       "    489.17,\n",
       "    186.71,\n",
       "    490.67,\n",
       "    192.06,\n",
       "    490.24,\n",
       "    193.77,\n",
       "    488.74,\n",
       "    194.41,\n",
       "    488.1,\n",
       "    196.98,\n",
       "    488.32,\n",
       "    197.62,\n",
       "    487.03,\n",
       "    198.69,\n",
       "    485.97,\n",
       "    203.17,\n",
       "    486.82,\n",
       "    204.03,\n",
       "    488.53,\n",
       "    204.89,\n",
       "    486.39,\n",
       "    207.88,\n",
       "    485.75,\n",
       "    214.29,\n",
       "    486.39,\n",
       "    218.35,\n",
       "    482.55,\n",
       "    218.57,\n",
       "    481.48,\n",
       "    220.92,\n",
       "    479.77,\n",
       "    220.06,\n",
       "    478.27,\n",
       "    218.57]],\n",
       "  'area': 708.2605500000001,\n",
       "  'iscrowd': 0,\n",
       "  'image_id': 391895,\n",
       "  'bbox': [471.64, 172.82, 35.92, 48.1],\n",
       "  'category_id': 1,\n",
       "  'id': 1260346},\n",
       " {'segmentation': [[486.01,\n",
       "    217.92,\n",
       "    486.01,\n",
       "    211.11,\n",
       "    487.71,\n",
       "    206.57,\n",
       "    489.6,\n",
       "    204.11,\n",
       "    487.71,\n",
       "    201.84,\n",
       "    488.66,\n",
       "    198.63,\n",
       "    489.98,\n",
       "    196.55,\n",
       "    489.04,\n",
       "    193.52,\n",
       "    495.46,\n",
       "    190.88,\n",
       "    496.22,\n",
       "    190.12,\n",
       "    494.52,\n",
       "    187.28,\n",
       "    497.36,\n",
       "    186.72,\n",
       "    501.33,\n",
       "    187.66,\n",
       "    509.08,\n",
       "    183.88,\n",
       "    513.81,\n",
       "    183.31,\n",
       "    513.99,\n",
       "    183.31,\n",
       "    516.64,\n",
       "    187.28,\n",
       "    515.89,\n",
       "    188.04,\n",
       "    508.51,\n",
       "    188.42,\n",
       "    508.89,\n",
       "    189.93,\n",
       "    511.54,\n",
       "    191.25,\n",
       "    511.16,\n",
       "    194.09,\n",
       "    507.57,\n",
       "    197.68,\n",
       "    507.94,\n",
       "    204.3,\n",
       "    508.7,\n",
       "    208.46,\n",
       "    507.0,\n",
       "    214.89,\n",
       "    506.62,\n",
       "    216.02,\n",
       "    503.6,\n",
       "    216.21,\n",
       "    500.95,\n",
       "    216.21,\n",
       "    495.65,\n",
       "    217.92,\n",
       "    489.79,\n",
       "    218.29]],\n",
       "  'area': 626.9852500000001,\n",
       "  'iscrowd': 0,\n",
       "  'image_id': 391895,\n",
       "  'bbox': [486.01, 183.31, 30.63, 34.98],\n",
       "  'category_id': 2,\n",
       "  'id': 1766676}]"
      ]
     },
     "execution_count": 19,
     "metadata": {},
     "output_type": "execute_result"
    }
   ],
   "source": [
    "coco_instance.loadAnns(instance_id)"
   ]
  },
  {
   "cell_type": "code",
   "execution_count": 20,
   "metadata": {
    "ExecuteTime": {
     "end_time": "2019-05-03T08:04:19.957027Z",
     "start_time": "2019-05-03T08:04:19.663466Z"
    }
   },
   "outputs": [
    {
     "data": {
      "text/plain": [
       "1024"
      ]
     },
     "execution_count": 20,
     "metadata": {},
     "output_type": "execute_result"
    }
   ],
   "source": [
    "word_embedding.wv.vector_size"
   ]
  },
  {
   "cell_type": "code",
   "execution_count": 21,
   "metadata": {
    "ExecuteTime": {
     "end_time": "2019-05-03T08:04:20.272422Z",
     "start_time": "2019-05-03T08:04:19.958004Z"
    }
   },
   "outputs": [],
   "source": [
    "corpus =[[word for word in nltk.tokenize.word_tokenize(ann['caption'].lower()) if word not in filter_word] for ann in coco_caption.loadAnns(annid)]      "
   ]
  },
  {
   "cell_type": "code",
   "execution_count": 22,
   "metadata": {
    "ExecuteTime": {
     "end_time": "2019-05-03T08:04:20.583872Z",
     "start_time": "2019-05-03T08:04:20.273397Z"
    }
   },
   "outputs": [
    {
     "name": "stdout",
     "output_type": "stream",
     "text": [
      "[['man', 'red', 'helmet', 'small', 'moped', 'dirt', 'road'], ['man', 'riding', 'motor', 'bike', 'dirt', 'road', 'countryside'], ['man', 'riding', 'back', 'motorcycle'], ['dirt', 'path', 'young', 'person', 'motor', 'bike', 'rests', 'foreground', 'verdant', 'area', 'bridge', 'background', 'cloud-wreathed', 'mountains'], ['man', 'red', 'shirt', 'red', 'hat', 'motorcycle', 'hill', 'side'], ['woman', 'wearing', 'net', 'head', 'cutting', 'cake'], ['woman', 'cutting', 'large', 'white', 'sheet', 'cake'], ['woman', 'wearing', 'hair', 'net', 'cutting', 'large', 'sheet', 'cake'], ['woman', 'cutting', 'white', 'cake'], ['woman', 'marking', 'cake', 'back', 'chef', \"'s\", 'knife']]\n"
     ]
    }
   ],
   "source": [
    "print(corpus)"
   ]
  },
  {
   "cell_type": "code",
   "execution_count": 23,
   "metadata": {
    "ExecuteTime": {
     "end_time": "2019-05-03T08:04:20.853341Z",
     "start_time": "2019-05-03T08:04:20.585825Z"
    }
   },
   "outputs": [
    {
     "name": "stderr",
     "output_type": "stream",
     "text": [
      "G:\\Anaconda3\\lib\\site-packages\\ipykernel_launcher.py:1: DeprecationWarning: Call to deprecated `__getitem__` (Method will be removed in 4.0.0, use self.wv.__getitem__() instead).\n",
      "  \"\"\"Entry point for launching an IPython kernel.\n"
     ]
    }
   ],
   "source": [
    "corpus_vectors = [t.from_numpy(np.array([word_embedding[word] for word in sentence if word in word_embedding.wv.vocab]))  for sentence in corpus]"
   ]
  },
  {
   "cell_type": "code",
   "execution_count": 24,
   "metadata": {
    "ExecuteTime": {
     "end_time": "2019-05-03T08:04:21.124314Z",
     "start_time": "2019-05-03T08:04:20.853854Z"
    }
   },
   "outputs": [],
   "source": [
    "batch_in = t.zeros((5,35,1024))\n",
    "for i in range(5):\n",
    "    batch_in[i,:corpus_vectors[i].shape[0],:] = corpus_vectors[i]"
   ]
  },
  {
   "cell_type": "markdown",
   "metadata": {},
   "source": [
    "# lstm "
   ]
  },
  {
   "cell_type": "code",
   "execution_count": 25,
   "metadata": {
    "ExecuteTime": {
     "end_time": "2019-05-03T08:04:21.882383Z",
     "start_time": "2019-05-03T08:04:21.129182Z"
    }
   },
   "outputs": [],
   "source": [
    "lstm = nn.LSTM(input_size=1024,hidden_size=512,batch_first=True)\n",
    "out,_ = lstm(batch_in)"
   ]
  },
  {
   "cell_type": "code",
   "execution_count": 26,
   "metadata": {
    "ExecuteTime": {
     "end_time": "2019-05-03T08:04:22.168003Z",
     "start_time": "2019-05-03T08:04:21.883359Z"
    }
   },
   "outputs": [
    {
     "data": {
      "text/plain": [
       "torch.Size([5, 35, 512])"
      ]
     },
     "execution_count": 26,
     "metadata": {},
     "output_type": "execute_result"
    }
   ],
   "source": [
    "out.shape"
   ]
  },
  {
   "cell_type": "code",
   "execution_count": 27,
   "metadata": {
    "ExecuteTime": {
     "end_time": "2019-05-03T08:04:22.438480Z",
     "start_time": "2019-05-03T08:04:22.168979Z"
    }
   },
   "outputs": [],
   "source": [
    "predict = t.FloatTensor([[1,0.5,0],[0.5,0.7,1]])\n",
    "label = t.FloatTensor([[1,1,0],[1,1,1]])"
   ]
  },
  {
   "cell_type": "code",
   "execution_count": 28,
   "metadata": {
    "ExecuteTime": {
     "end_time": "2019-05-03T08:04:22.735678Z",
     "start_time": "2019-05-03T08:04:22.440433Z"
    }
   },
   "outputs": [],
   "source": [
    "bce = nn.BCELoss()"
   ]
  },
  {
   "cell_type": "code",
   "execution_count": 29,
   "metadata": {
    "ExecuteTime": {
     "end_time": "2019-05-03T08:04:23.181733Z",
     "start_time": "2019-05-03T08:04:22.736653Z"
    }
   },
   "outputs": [
    {
     "data": {
      "text/plain": [
       "tensor(0.2905)"
      ]
     },
     "execution_count": 29,
     "metadata": {},
     "output_type": "execute_result"
    }
   ],
   "source": [
    "bce(predict,label)"
   ]
  },
  {
   "cell_type": "code",
   "execution_count": 30,
   "metadata": {
    "ExecuteTime": {
     "end_time": "2019-05-03T08:04:23.470749Z",
     "start_time": "2019-05-03T08:04:23.182714Z"
    }
   },
   "outputs": [],
   "source": [
    "sim_mat = t.matmul(pool.squeeze(),out[0].t())"
   ]
  },
  {
   "cell_type": "code",
   "execution_count": 31,
   "metadata": {
    "ExecuteTime": {
     "end_time": "2019-05-03T08:19:30.730491Z",
     "start_time": "2019-05-03T08:19:30.380597Z"
    }
   },
   "outputs": [],
   "source": [
    "sim_mat_flat =  t.flatten(sim_mat)"
   ]
  },
  {
   "cell_type": "code",
   "execution_count": 34,
   "metadata": {
    "ExecuteTime": {
     "end_time": "2019-05-03T08:22:24.146917Z",
     "start_time": "2019-05-03T08:22:23.884268Z"
    }
   },
   "outputs": [],
   "source": [
    "k = 30"
   ]
  },
  {
   "cell_type": "code",
   "execution_count": 43,
   "metadata": {
    "ExecuteTime": {
     "end_time": "2019-05-03T08:29:27.973241Z",
     "start_time": "2019-05-03T08:29:27.708108Z"
    }
   },
   "outputs": [],
   "source": [
    "kth,_ = t.kthvalue(sim_mat_flat,len(sim_mat_flat)-30)"
   ]
  },
  {
   "cell_type": "code",
   "execution_count": 47,
   "metadata": {
    "ExecuteTime": {
     "end_time": "2019-05-03T08:37:48.669383Z",
     "start_time": "2019-05-03T08:37:48.388108Z"
    }
   },
   "outputs": [],
   "source": [
    "idx_k = sim_mat > kth"
   ]
  },
  {
   "cell_type": "code",
   "execution_count": 79,
   "metadata": {
    "ExecuteTime": {
     "end_time": "2019-05-03T09:28:52.722613Z",
     "start_time": "2019-05-03T09:28:52.471345Z"
    }
   },
   "outputs": [],
   "source": [
    "m_idx = (t.sum(idx_k,1)>0).float()"
   ]
  },
  {
   "cell_type": "code",
   "execution_count": 78,
   "metadata": {
    "ExecuteTime": {
     "end_time": "2019-05-03T09:28:51.139770Z",
     "start_time": "2019-05-03T09:28:50.887496Z"
    }
   },
   "outputs": [],
   "source": [
    "n_idx = (t.sum(idx_k,0) > 0).float()"
   ]
  },
  {
   "cell_type": "code",
   "execution_count": 54,
   "metadata": {
    "ExecuteTime": {
     "end_time": "2019-05-03T08:44:07.833637Z",
     "start_time": "2019-05-03T08:44:07.557324Z"
    }
   },
   "outputs": [],
   "source": [
    "cons_feature_shape = (k,lstm.hidden_size)"
   ]
  },
  {
   "cell_type": "code",
   "execution_count": 80,
   "metadata": {
    "ExecuteTime": {
     "end_time": "2019-05-03T09:29:01.704116Z",
     "start_time": "2019-05-03T09:29:01.455448Z"
    }
   },
   "outputs": [
    {
     "data": {
      "text/plain": [
       "tensor([0., 1., 0., 0., 1., 0., 1., 1., 0., 0., 0., 1., 0., 0., 1., 0., 0., 0.,\n",
       "        0., 0., 1., 1., 0., 0., 1., 0., 1., 1., 0., 1., 0., 0., 0., 1., 0.])"
      ]
     },
     "execution_count": 80,
     "metadata": {},
     "output_type": "execute_result"
    }
   ],
   "source": [
    "m_idx"
   ]
  },
  {
   "cell_type": "code",
   "execution_count": 84,
   "metadata": {
    "ExecuteTime": {
     "end_time": "2019-05-03T09:30:00.711951Z",
     "start_time": "2019-05-03T09:30:00.461983Z"
    }
   },
   "outputs": [
    {
     "data": {
      "text/plain": [
       "tensor([[0., 0., 0.,  ..., 0., 0., 0.],\n",
       "        [1., 1., 1.,  ..., 1., 1., 1.],\n",
       "        [0., 0., 0.,  ..., 0., 0., 0.],\n",
       "        ...,\n",
       "        [0., 0., 0.,  ..., 0., 0., 0.],\n",
       "        [1., 1., 1.,  ..., 1., 1., 1.],\n",
       "        [0., 0., 0.,  ..., 0., 0., 0.]])"
      ]
     },
     "execution_count": 84,
     "metadata": {},
     "output_type": "execute_result"
    }
   ],
   "source": [
    "m_idx.view(-1,1).repeat(1,lstm.hidden_size)"
   ]
  },
  {
   "cell_type": "code",
   "execution_count": 82,
   "metadata": {
    "ExecuteTime": {
     "end_time": "2019-05-03T09:29:45.083337Z",
     "start_time": "2019-05-03T09:29:44.815062Z"
    }
   },
   "outputs": [],
   "source": [
    "cons_image = pool.squeeze() * m_idx.view(-1,1).repeat(1,lstm.hidden_size)"
   ]
  },
  {
   "cell_type": "code",
   "execution_count": 85,
   "metadata": {
    "ExecuteTime": {
     "end_time": "2019-05-03T09:30:11.432558Z",
     "start_time": "2019-05-03T09:30:11.189630Z"
    }
   },
   "outputs": [
    {
     "data": {
      "text/plain": [
       "tensor([[0.0000, 0.5296, 0.3276,  ..., 0.2113, 0.0000, 0.0000],\n",
       "        [0.0000, 0.4907, 0.3005,  ..., 0.0655, 0.0000, 0.0000],\n",
       "        [0.0000, 0.3859, 0.5170,  ..., 0.3728, 0.0000, 0.0000],\n",
       "        ...,\n",
       "        [0.0000, 0.1540, 0.3035,  ..., 0.1910, 0.0000, 0.0000],\n",
       "        [0.0000, 0.3943, 0.5780,  ..., 0.0000, 0.0000, 0.0000],\n",
       "        [0.0000, 0.0000, 0.0037,  ..., 0.0017, 0.0000, 0.0000]],\n",
       "       grad_fn=<SqueezeBackward0>)"
      ]
     },
     "execution_count": 85,
     "metadata": {},
     "output_type": "execute_result"
    }
   ],
   "source": [
    "pool.squeeze()"
   ]
  },
  {
   "cell_type": "code",
   "execution_count": 83,
   "metadata": {
    "ExecuteTime": {
     "end_time": "2019-05-03T09:29:45.771863Z",
     "start_time": "2019-05-03T09:29:45.512218Z"
    }
   },
   "outputs": [
    {
     "data": {
      "text/plain": [
       "tensor([[0.0000, 0.0000, 0.0000,  ..., 0.0000, 0.0000, 0.0000],\n",
       "        [0.0000, 0.4907, 0.3005,  ..., 0.0655, 0.0000, 0.0000],\n",
       "        [0.0000, 0.0000, 0.0000,  ..., 0.0000, 0.0000, 0.0000],\n",
       "        ...,\n",
       "        [0.0000, 0.0000, 0.0000,  ..., 0.0000, 0.0000, 0.0000],\n",
       "        [0.0000, 0.3943, 0.5780,  ..., 0.0000, 0.0000, 0.0000],\n",
       "        [0.0000, 0.0000, 0.0000,  ..., 0.0000, 0.0000, 0.0000]],\n",
       "       grad_fn=<MulBackward0>)"
      ]
     },
     "execution_count": 83,
     "metadata": {},
     "output_type": "execute_result"
    }
   ],
   "source": [
    "cons_image"
   ]
  },
  {
   "cell_type": "code",
   "execution_count": 86,
   "metadata": {
    "ExecuteTime": {
     "end_time": "2019-05-03T09:30:18.565720Z",
     "start_time": "2019-05-03T09:30:18.301420Z"
    }
   },
   "outputs": [],
   "source": [
    "cons_text = out[0] * n_idx.view(-1,1).repeat(1,lstm.hidden_size)"
   ]
  },
  {
   "cell_type": "code",
   "execution_count": 87,
   "metadata": {
    "ExecuteTime": {
     "end_time": "2019-05-03T09:30:23.089053Z",
     "start_time": "2019-05-03T09:30:22.845606Z"
    }
   },
   "outputs": [
    {
     "data": {
      "text/plain": [
       "tensor([[ 0.0377,  0.0041, -0.0319,  ..., -0.1250,  0.0064,  0.1792],\n",
       "        [ 0.0000, -0.0000, -0.0000,  ..., -0.0000,  0.0000,  0.0000],\n",
       "        [-0.0975,  0.0493, -0.0754,  ..., -0.0980,  0.0840,  0.1042],\n",
       "        ...,\n",
       "        [-0.0000,  0.0000, -0.0000,  ..., -0.0000, -0.0000,  0.0000],\n",
       "        [-0.0000,  0.0000, -0.0000,  ..., -0.0000, -0.0000,  0.0000],\n",
       "        [-0.0000,  0.0000, -0.0000,  ..., -0.0000, -0.0000,  0.0000]],\n",
       "       grad_fn=<MulBackward0>)"
      ]
     },
     "execution_count": 87,
     "metadata": {},
     "output_type": "execute_result"
    }
   ],
   "source": [
    "cons_text"
   ]
  },
  {
   "cell_type": "code",
   "execution_count": null,
   "metadata": {},
   "outputs": [],
   "source": []
  }
 ],
 "metadata": {
  "kernelspec": {
   "display_name": "Python 3",
   "language": "python",
   "name": "python3"
  },
  "language_info": {
   "codemirror_mode": {
    "name": "ipython",
    "version": 3
   },
   "file_extension": ".py",
   "mimetype": "text/x-python",
   "name": "python",
   "nbconvert_exporter": "python",
   "pygments_lexer": "ipython3",
   "version": "3.7.1"
  },
  "toc": {
   "base_numbering": 1,
   "nav_menu": {},
   "number_sections": true,
   "sideBar": true,
   "skip_h1_title": false,
   "title_cell": "Table of Contents",
   "title_sidebar": "Contents",
   "toc_cell": false,
   "toc_position": {},
   "toc_section_display": true,
   "toc_window_display": false
  },
  "varInspector": {
   "cols": {
    "lenName": 16,
    "lenType": 16,
    "lenVar": 40
   },
   "kernels_config": {
    "python": {
     "delete_cmd_postfix": "",
     "delete_cmd_prefix": "del ",
     "library": "var_list.py",
     "varRefreshCmd": "print(var_dic_list())"
    },
    "r": {
     "delete_cmd_postfix": ") ",
     "delete_cmd_prefix": "rm(",
     "library": "var_list.r",
     "varRefreshCmd": "cat(var_dic_list()) "
    }
   },
   "types_to_exclude": [
    "module",
    "function",
    "builtin_function_or_method",
    "instance",
    "_Feature"
   ],
   "window_display": false
  }
 },
 "nbformat": 4,
 "nbformat_minor": 2
}

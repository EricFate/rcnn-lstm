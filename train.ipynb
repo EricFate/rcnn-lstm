{
 "cells": [
  {
   "cell_type": "code",
   "execution_count": 1,
   "metadata": {
    "ExecuteTime": {
     "end_time": "2019-05-10T13:31:59.436590Z",
     "start_time": "2019-05-10T13:31:32.354103Z"
    }
   },
   "outputs": [
    {
     "name": "stderr",
     "output_type": "stream",
     "text": [
      "C:\\Users\\Administrator\\Desktop\\rcnn lstm\\model\\utils\\nms\\non_maximum_suppression.py:12: UserWarning: \n",
      "    the python code for non_maximum_suppression is about 2x slow\n",
      "    It is strongly recommended to build cython code: \n",
      "    `cd model/utils/nms/; python3 build.py build_ext --inplace\n",
      "  `cd model/utils/nms/; python3 build.py build_ext --inplace''')\n"
     ]
    }
   ],
   "source": [
    "%reload_ext autoreload\n",
    "%autoreload 2\n",
    "import os\n",
    "\n",
    "import ipdb\n",
    "import matplotlib\n",
    "from tqdm import tqdm\n",
    "\n",
    "from torch import nn\n",
    "\n",
    "from utils.config import opt\n",
    "from data.dataset import Dataset, TestDataset, inverse_normalize\n",
    "from data.Data import COCODataset,param_map\n",
    "from model import FasterRCNNVGG16, FasterRCNNVGG16Extractor\n",
    "from faster_rcnn_lstm import FasterRCNN_LSTM\n",
    "from torch.utils import data as data_\n",
    "from trainer import FasterRCNNTrainer\n",
    "from utils import array_tool as at\n",
    "from utils.vis_tool import visdom_bbox\n",
    "from utils.eval_tool import eval_detection_voc\n",
    "from model.predictor import PredictNet"
   ]
  },
  {
   "cell_type": "code",
   "execution_count": 2,
   "metadata": {
    "ExecuteTime": {
     "end_time": "2019-05-10T13:32:48.687365Z",
     "start_time": "2019-05-10T13:31:59.438584Z"
    }
   },
   "outputs": [
    {
     "name": "stdout",
     "output_type": "stream",
     "text": [
      "loading annotations into memory...\n",
      "Done (t=1.97s)\n",
      "creating index...\n",
      "index created!\n",
      "loading annotations into memory...\n",
      "Done (t=24.69s)\n",
      "creating index...\n",
      "index created!\n",
      "loading annotations into memory...\n",
      "Done (t=0.15s)\n",
      "creating index...\n",
      "index created!\n",
      "loading annotations into memory...\n",
      "Done (t=0.82s)\n",
      "creating index...\n",
      "index created!\n"
     ]
    },
    {
     "name": "stderr",
     "output_type": "stream",
     "text": [
      "WARNING:root:Setting up a new session...\n"
     ]
    },
    {
     "name": "stdout",
     "output_type": "stream",
     "text": [
      "Exception in user code:\n",
      "------------------------------------------------------------\n"
     ]
    },
    {
     "name": "stderr",
     "output_type": "stream",
     "text": [
      "Traceback (most recent call last):\n",
      "  File \"G:\\Anaconda3\\lib\\site-packages\\urllib3\\connection.py\", line 159, in _new_conn\n",
      "    (self._dns_host, self.port), self.timeout, **extra_kw)\n",
      "  File \"G:\\Anaconda3\\lib\\site-packages\\urllib3\\util\\connection.py\", line 80, in create_connection\n",
      "    raise err\n",
      "  File \"G:\\Anaconda3\\lib\\site-packages\\urllib3\\util\\connection.py\", line 70, in create_connection\n",
      "    sock.connect(sa)\n",
      "ConnectionRefusedError: [WinError 10061] 由于目标计算机积极拒绝，无法连接。\n",
      "\n",
      "During handling of the above exception, another exception occurred:\n",
      "\n",
      "Traceback (most recent call last):\n",
      "  File \"G:\\Anaconda3\\lib\\site-packages\\urllib3\\connectionpool.py\", line 600, in urlopen\n",
      "    chunked=chunked)\n",
      "  File \"G:\\Anaconda3\\lib\\site-packages\\urllib3\\connectionpool.py\", line 354, in _make_request\n",
      "    conn.request(method, url, **httplib_request_kw)\n",
      "  File \"G:\\Anaconda3\\lib\\http\\client.py\", line 1229, in request\n",
      "    self._send_request(method, url, body, headers, encode_chunked)\n",
      "  File \"G:\\Anaconda3\\lib\\http\\client.py\", line 1275, in _send_request\n",
      "    self.endheaders(body, encode_chunked=encode_chunked)\n",
      "  File \"G:\\Anaconda3\\lib\\http\\client.py\", line 1224, in endheaders\n",
      "    self._send_output(message_body, encode_chunked=encode_chunked)\n",
      "  File \"G:\\Anaconda3\\lib\\http\\client.py\", line 1016, in _send_output\n",
      "    self.send(msg)\n",
      "  File \"G:\\Anaconda3\\lib\\http\\client.py\", line 956, in send\n",
      "    self.connect()\n",
      "  File \"G:\\Anaconda3\\lib\\site-packages\\urllib3\\connection.py\", line 181, in connect\n",
      "    conn = self._new_conn()\n",
      "  File \"G:\\Anaconda3\\lib\\site-packages\\urllib3\\connection.py\", line 168, in _new_conn\n",
      "    self, \"Failed to establish a new connection: %s\" % e)\n",
      "urllib3.exceptions.NewConnectionError: <urllib3.connection.HTTPConnection object at 0x000001F854A08160>: Failed to establish a new connection: [WinError 10061] 由于目标计算机积极拒绝，无法连接。\n",
      "\n",
      "During handling of the above exception, another exception occurred:\n",
      "\n",
      "Traceback (most recent call last):\n",
      "  File \"G:\\Anaconda3\\lib\\site-packages\\requests\\adapters.py\", line 449, in send\n",
      "    timeout=timeout\n",
      "  File \"G:\\Anaconda3\\lib\\site-packages\\urllib3\\connectionpool.py\", line 638, in urlopen\n",
      "    _stacktrace=sys.exc_info()[2])\n",
      "  File \"G:\\Anaconda3\\lib\\site-packages\\urllib3\\util\\retry.py\", line 398, in increment\n",
      "    raise MaxRetryError(_pool, url, error or ResponseError(cause))\n",
      "urllib3.exceptions.MaxRetryError: HTTPConnectionPool(host='localhost', port=8097): Max retries exceeded with url: /env/faster-rcnn (Caused by NewConnectionError('<urllib3.connection.HTTPConnection object at 0x000001F854A08160>: Failed to establish a new connection: [WinError 10061] 由于目标计算机积极拒绝，无法连接。'))\n",
      "\n",
      "During handling of the above exception, another exception occurred:\n",
      "\n",
      "Traceback (most recent call last):\n",
      "  File \"G:\\Anaconda3\\lib\\site-packages\\visdom\\__init__.py\", line 548, in _send\n",
      "    data=json.dumps(msg),\n",
      "  File \"G:\\Anaconda3\\lib\\site-packages\\requests\\sessions.py\", line 581, in post\n",
      "    return self.request('POST', url, data=data, json=json, **kwargs)\n",
      "  File \"G:\\Anaconda3\\lib\\site-packages\\requests\\sessions.py\", line 533, in request\n",
      "    resp = self.send(prep, **send_kwargs)\n",
      "  File \"G:\\Anaconda3\\lib\\site-packages\\requests\\sessions.py\", line 646, in send\n",
      "    r = adapter.send(request, **kwargs)\n",
      "  File \"G:\\Anaconda3\\lib\\site-packages\\requests\\adapters.py\", line 516, in send\n",
      "    raise ConnectionError(e, request=request)\n",
      "requests.exceptions.ConnectionError: HTTPConnectionPool(host='localhost', port=8097): Max retries exceeded with url: /env/faster-rcnn (Caused by NewConnectionError('<urllib3.connection.HTTPConnection object at 0x000001F854A08160>: Failed to establish a new connection: [WinError 10061] 由于目标计算机积极拒绝，无法连接。'))\n",
      "WARNING:visdom:Without the incoming socket you cannot receive events from the server or register event handlers to your Visdom client.\n"
     ]
    }
   ],
   "source": [
    "embedding_file = 'G:\\\\data\\\\coco_filtered_word2vec_1024'\n",
    "dataset = COCODataset(embedding_file,opt.n)\n",
    "dataloader = data_.DataLoader(dataset, \\\n",
    "                              batch_size=1, \\\n",
    "                              shuffle=True, \\\n",
    "                              # pin_memory=True,\n",
    "                              num_workers=opt.num_workers)\n",
    "faster_rcnn = FasterRCNNVGG16()\n",
    "trainer = FasterRCNNTrainer(faster_rcnn).cuda()\n",
    "trainer.load('G:\\\\models\\\\fasterrcnn_torchvision_pretrain.pth')\n",
    "opt.caffe_pretrain = False\n",
    "faster_extractor = FasterRCNNVGG16Extractor(trainer.faster_rcnn, opt.n_class, hidden_size=opt.hidden_size).cuda()\n",
    "lstm = nn.LSTM(input_size=dataset.word_embedding.vector_size, hidden_size=opt.hidden_size, batch_first=True)\n",
    "predict_param = [dataset.word_embedding.vector_size, opt.n_class]\n",
    "img_predictors = [PredictNet(predict_param) for i in range(2)]\n",
    "text_predictors = [PredictNet(predict_param) for i in range(2)]\n",
    "faster_rcnn_lstm = FasterRCNN_LSTM(faster_extractor, lstm, img_predictors,text_predictors)"
   ]
  },
  {
   "cell_type": "code",
   "execution_count": 3,
   "metadata": {
    "ExecuteTime": {
     "end_time": "2019-05-10T13:32:51.656661Z",
     "start_time": "2019-05-10T13:32:48.690361Z"
    }
   },
   "outputs": [
    {
     "name": "stdout",
     "output_type": "stream",
     "text": [
      "torch.Size([3, 424, 640])\n",
      "torch.Size([3, 480, 640])\n",
      "torch.Size([3, 640, 431])\n",
      "torch.Size([3, 640, 427])\n",
      "torch.Size([3, 480, 640])\n",
      "torch.Size([3, 427, 640])\n",
      "torch.Size([3, 487, 500])\n",
      "torch.Size([3, 428, 640])\n",
      "torch.Size([3, 435, 640])\n",
      "torch.Size([3, 480, 640])\n",
      "torch.Size([3, 424, 640])\n",
      "torch.Size([3, 480, 640])\n",
      "torch.Size([3, 612, 612])\n",
      "torch.Size([3, 399, 640])\n",
      "torch.Size([3, 480, 640])\n",
      "torch.Size([3, 360, 640])\n",
      "torch.Size([3, 458, 640])\n",
      "torch.Size([3, 640, 480])\n",
      "torch.Size([3, 480, 640])\n",
      "torch.Size([3, 640, 479])\n",
      "torch.Size([3, 333, 500])\n",
      "torch.Size([3, 480, 640])\n",
      "torch.Size([3, 480, 640])\n"
     ]
    }
   ],
   "source": [
    "data_iter = iter(dataloader)\n",
    "image,text,bbox,labels = next(data_iter)"
   ]
  },
  {
   "cell_type": "code",
   "execution_count": null,
   "metadata": {
    "ExecuteTime": {
     "start_time": "2019-05-10T13:31:32.313Z"
    }
   },
   "outputs": [
    {
     "data": {
      "text/plain": [
       "torch.Size([1, 3, 424, 640])"
      ]
     },
     "execution_count": 4,
     "metadata": {},
     "output_type": "execute_result"
    }
   ],
   "source": [
    "image[0][0].shape"
   ]
  },
  {
   "cell_type": "code",
   "execution_count": null,
   "metadata": {
    "ExecuteTime": {
     "start_time": "2019-05-10T13:31:32.316Z"
    }
   },
   "outputs": [],
   "source": [
    "faster_rcnn_lstm.train_step(image, text, bbox, labels,opt.m,opt.k)"
   ]
  },
  {
   "cell_type": "code",
   "execution_count": null,
   "metadata": {
    "ExecuteTime": {
     "start_time": "2019-05-10T13:31:32.317Z"
    }
   },
   "outputs": [],
   "source": [
    "for epoch in range(opt.epoch):\n",
    "    for ii, (image,text,bbox,labels) in tqdm(enumerate(dataloader)):\n",
    "        faster_rcnn_lstm.train_step(image, text, bbox, labels,opt.m,opt.k)"
   ]
  },
  {
   "cell_type": "code",
   "execution_count": null,
   "metadata": {},
   "outputs": [],
   "source": []
  }
 ],
 "metadata": {
  "kernelspec": {
   "display_name": "Python 3",
   "language": "python",
   "name": "python3"
  },
  "language_info": {
   "codemirror_mode": {
    "name": "ipython",
    "version": 3
   },
   "file_extension": ".py",
   "mimetype": "text/x-python",
   "name": "python",
   "nbconvert_exporter": "python",
   "pygments_lexer": "ipython3",
   "version": "3.7.1"
  },
  "toc": {
   "base_numbering": 1.0,
   "nav_menu": {},
   "number_sections": true,
   "sideBar": true,
   "skip_h1_title": false,
   "title_cell": "Table of Contents",
   "title_sidebar": "Contents",
   "toc_cell": false,
   "toc_position": {},
   "toc_section_display": true,
   "toc_window_display": false
  },
  "varInspector": {
   "cols": {
    "lenName": 16.0,
    "lenType": 16.0,
    "lenVar": 40.0
   },
   "kernels_config": {
    "python": {
     "delete_cmd_postfix": "",
     "delete_cmd_prefix": "del ",
     "library": "var_list.py",
     "varRefreshCmd": "print(var_dic_list())"
    },
    "r": {
     "delete_cmd_postfix": ") ",
     "delete_cmd_prefix": "rm(",
     "library": "var_list.r",
     "varRefreshCmd": "cat(var_dic_list()) "
    }
   },
   "types_to_exclude": [
    "module",
    "function",
    "builtin_function_or_method",
    "instance",
    "_Feature"
   ],
   "window_display": false
  }
 },
 "nbformat": 4,
 "nbformat_minor": 2
}
